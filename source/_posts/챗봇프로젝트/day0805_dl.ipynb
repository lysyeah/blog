{
  "nbformat": 4,
  "nbformat_minor": 0,
  "metadata": {
    "colab": {
      "name": "day0805_dl.ipynb",
      "provenance": [],
      "collapsed_sections": []
    },
    "kernelspec": {
      "name": "python3",
      "display_name": "Python 3"
    },
    "language_info": {
      "name": "python"
    },
    "accelerator": "GPU",
    "gpuClass": "standard"
  },
  "cells": [
    {
      "cell_type": "markdown",
      "source": [
        "## 데이터 불러오기"
      ],
      "metadata": {
        "id": "XhH9BKs-jk56"
      }
    },
    {
      "cell_type": "code",
      "source": [
        "from tensorflow.keras.datasets import imdb\n",
        "(train_input, train_target),(test_input,test_target) = imdb.load_data(num_words=500)\n",
        "train_input.shape,test_input.shape"
      ],
      "metadata": {
        "colab": {
          "base_uri": "https://localhost:8080/"
        },
        "id": "EpEt9JQ4jkTr",
        "outputId": "c6f3e856-e3bd-40f9-db47-f8f086e15a2d"
      },
      "execution_count": 54,
      "outputs": [
        {
          "output_type": "execute_result",
          "data": {
            "text/plain": [
              "((25000,), (25000,))"
            ]
          },
          "metadata": {},
          "execution_count": 54
        }
      ]
    },
    {
      "cell_type": "code",
      "execution_count": 55,
      "metadata": {
        "colab": {
          "base_uri": "https://localhost:8080/"
        },
        "id": "wMN51gIwgk5p",
        "outputId": "b6f2e21d-d9ca-4ef1-af00-bbd880ac3d7e"
      },
      "outputs": [
        {
          "output_type": "stream",
          "name": "stdout",
          "text": [
            "218\n",
            "189\n"
          ]
        }
      ],
      "source": [
        "print(len(train_input[0]))\n",
        "print(len(train_input[1]))"
      ]
    },
    {
      "cell_type": "code",
      "source": [
        "print(train_input[0])"
      ],
      "metadata": {
        "colab": {
          "base_uri": "https://localhost:8080/"
        },
        "id": "RRIvr5vNkPMx",
        "outputId": "602e38ea-58ab-46a6-83aa-a968853c7947"
      },
      "execution_count": 56,
      "outputs": [
        {
          "output_type": "stream",
          "name": "stdout",
          "text": [
            "[1, 14, 22, 16, 43, 2, 2, 2, 2, 65, 458, 2, 66, 2, 4, 173, 36, 256, 5, 25, 100, 43, 2, 112, 50, 2, 2, 9, 35, 480, 284, 5, 150, 4, 172, 112, 167, 2, 336, 385, 39, 4, 172, 2, 2, 17, 2, 38, 13, 447, 4, 192, 50, 16, 6, 147, 2, 19, 14, 22, 4, 2, 2, 469, 4, 22, 71, 87, 12, 16, 43, 2, 38, 76, 15, 13, 2, 4, 22, 17, 2, 17, 12, 16, 2, 18, 2, 5, 62, 386, 12, 8, 316, 8, 106, 5, 4, 2, 2, 16, 480, 66, 2, 33, 4, 130, 12, 16, 38, 2, 5, 25, 124, 51, 36, 135, 48, 25, 2, 33, 6, 22, 12, 215, 28, 77, 52, 5, 14, 407, 16, 82, 2, 8, 4, 107, 117, 2, 15, 256, 4, 2, 7, 2, 5, 2, 36, 71, 43, 2, 476, 26, 400, 317, 46, 7, 4, 2, 2, 13, 104, 88, 4, 381, 15, 297, 98, 32, 2, 56, 26, 141, 6, 194, 2, 18, 4, 226, 22, 21, 134, 476, 26, 480, 5, 144, 30, 2, 18, 51, 36, 28, 224, 92, 25, 104, 4, 226, 65, 16, 38, 2, 88, 12, 16, 283, 5, 16, 2, 113, 103, 32, 15, 16, 2, 19, 178, 32]\n"
          ]
        }
      ]
    },
    {
      "cell_type": "markdown",
      "source": [
        "- 0 은 부정적인 문장\n",
        "- 1 은 긍정적인 문장"
      ],
      "metadata": {
        "id": "gnmtWzpGkeJK"
      }
    },
    {
      "cell_type": "code",
      "source": [
        "print(train_target[:20])"
      ],
      "metadata": {
        "colab": {
          "base_uri": "https://localhost:8080/"
        },
        "id": "h5lE7SFikZYR",
        "outputId": "ae1cd644-441d-44c2-a81a-7501cbd0e6bc"
      },
      "execution_count": 57,
      "outputs": [
        {
          "output_type": "stream",
          "name": "stdout",
          "text": [
            "[1 0 0 1 0 0 1 0 1 0 1 0 0 0 0 0 1 1 0 1]\n"
          ]
        }
      ]
    },
    {
      "cell_type": "markdown",
      "source": [
        "- 훈련 데이터 테스트 데이터 분리 "
      ],
      "metadata": {
        "id": "FcYwt7BtkoUR"
      }
    },
    {
      "cell_type": "code",
      "source": [
        "from sklearn.model_selection import train_test_split\n",
        "\n",
        "train_input, val_input, train_target, val_target = train_test_split(\n",
        "    train_input, train_target, test_size=0.2, random_state=42)"
      ],
      "metadata": {
        "id": "HjXadIghkp-x"
      },
      "execution_count": 58,
      "outputs": []
    },
    {
      "cell_type": "code",
      "source": [
        "train_input.shape, val_input.shape, train_target.shape, val_target.shape"
      ],
      "metadata": {
        "colab": {
          "base_uri": "https://localhost:8080/"
        },
        "id": "TFh-Qp22mNcG",
        "outputId": "50eaba60-b8cd-4f0f-f6a8-fc220d34e1b7"
      },
      "execution_count": 59,
      "outputs": [
        {
          "output_type": "execute_result",
          "data": {
            "text/plain": [
              "((20000,), (5000,), (20000,), (5000,))"
            ]
          },
          "metadata": {},
          "execution_count": 59
        }
      ]
    },
    {
      "cell_type": "code",
      "source": [
        "import numpy as np\n",
        "\n",
        "lengths = np.array([len(x) for x in train_input])"
      ],
      "metadata": {
        "id": "xeZoiz8ImRI6"
      },
      "execution_count": 60,
      "outputs": []
    },
    {
      "cell_type": "code",
      "source": [
        "print(np.mean(lengths), np.median(lengths))"
      ],
      "metadata": {
        "colab": {
          "base_uri": "https://localhost:8080/"
        },
        "id": "sHHxTYTBmWty",
        "outputId": "7d81ba09-621e-4875-8e3c-dbb8082b3020"
      },
      "execution_count": 61,
      "outputs": [
        {
          "output_type": "stream",
          "name": "stdout",
          "text": [
            "239.00925 178.0\n"
          ]
        }
      ]
    },
    {
      "cell_type": "code",
      "source": [
        "import matplotlib.pyplot as plt\n",
        "\n",
        "plt.hist(lengths)\n",
        "plt.xlabel('length')\n",
        "plt.ylabel('frequency')\n",
        "plt.show()"
      ],
      "metadata": {
        "colab": {
          "base_uri": "https://localhost:8080/",
          "height": 279
        },
        "id": "Lrd4vI2UmYcJ",
        "outputId": "d0e6a2c8-8776-450d-a0ff-328bcd7e8a5b"
      },
      "execution_count": 62,
      "outputs": [
        {
          "output_type": "display_data",
          "data": {
            "text/plain": [
              "<Figure size 432x288 with 1 Axes>"
            ],
            "image/png": "[encoded data removed]"
          },
          "metadata": {
            "needs_background": "light"
          }
        }
      ]
    },
    {
      "cell_type": "markdown",
      "source": [
        "- 20,000개의 리뷰를 순회하면서 길이가 100이 되도록 잘라낸다.\n",
        "- 100개보다 적은 문장은 0으로 채운다."
      ],
      "metadata": {
        "id": "w9wVMo1mnSOi"
      }
    },
    {
      "cell_type": "code",
      "source": [
        "from tensorflow.keras.preprocessing.sequence import pad_sequences\n",
        "train_seq = pad_sequences(train_input, maxlen=100)"
      ],
      "metadata": {
        "id": "DixqWRHjmyOq"
      },
      "execution_count": 63,
      "outputs": []
    },
    {
      "cell_type": "code",
      "source": [
        "print(train_seq.shape)"
      ],
      "metadata": {
        "colab": {
          "base_uri": "https://localhost:8080/"
        },
        "id": "mxnAanfMnMHK",
        "outputId": "86fd11b6-67bd-4f96-b61a-478715114032"
      },
      "execution_count": 64,
      "outputs": [
        {
          "output_type": "stream",
          "name": "stdout",
          "text": [
            "(20000, 100)\n"
          ]
        }
      ]
    },
    {
      "cell_type": "code",
      "source": [
        "print(train_seq[0])"
      ],
      "metadata": {
        "colab": {
          "base_uri": "https://localhost:8080/"
        },
        "id": "AIpR-GYFndbZ",
        "outputId": "d31853ae-1c3c-4edd-8d13-7d8e8235b67e"
      },
      "execution_count": 65,
      "outputs": [
        {
          "output_type": "stream",
          "name": "stdout",
          "text": [
            "[ 10   4  20   9   2 364 352   5  45   6   2   2  33 269   8   2 142   2\n",
            "   5   2  17  73  17 204   5   2  19  55   2   2  92  66 104  14  20  93\n",
            "  76   2 151  33   4  58  12 188   2 151  12 215  69 224 142  73 237   6\n",
            "   2   7   2   2 188   2 103  14  31  10  10 451   7   2   5   2  80  91\n",
            "   2  30   2  34  14  20 151  50  26 131  49   2  84  46  50  37  80  79\n",
            "   6   2  46   7  14  20  10  10 470 158]\n"
          ]
        }
      ]
    },
    {
      "cell_type": "code",
      "source": [
        "print(train_input[0])"
      ],
      "metadata": {
        "colab": {
          "base_uri": "https://localhost:8080/"
        },
        "id": "k2SNEGTboBcr",
        "outputId": "20ae3982-425b-460c-f2a4-cba3f8c778c9"
      },
      "execution_count": 66,
      "outputs": [
        {
          "output_type": "stream",
          "name": "stdout",
          "text": [
            "[1, 73, 89, 81, 25, 60, 2, 6, 20, 141, 17, 14, 31, 127, 12, 60, 28, 2, 2, 66, 45, 6, 20, 15, 497, 8, 79, 17, 491, 8, 112, 6, 2, 20, 17, 2, 2, 4, 436, 20, 9, 2, 6, 2, 7, 493, 2, 6, 185, 250, 24, 55, 2, 5, 23, 350, 7, 15, 82, 24, 15, 2, 66, 10, 10, 45, 2, 15, 4, 20, 2, 8, 30, 17, 2, 5, 2, 17, 2, 190, 4, 20, 9, 43, 32, 99, 2, 18, 15, 8, 157, 46, 17, 2, 4, 2, 5, 2, 9, 32, 2, 5, 2, 267, 17, 73, 17, 2, 36, 26, 400, 43, 2, 83, 4, 2, 247, 74, 83, 4, 250, 2, 82, 4, 96, 4, 250, 2, 8, 32, 4, 2, 9, 184, 2, 13, 384, 48, 14, 16, 147, 2, 59, 62, 69, 2, 12, 46, 50, 9, 53, 2, 74, 2, 11, 14, 31, 151, 10, 10, 4, 20, 9, 2, 364, 352, 5, 45, 6, 2, 2, 33, 269, 8, 2, 142, 2, 5, 2, 17, 73, 17, 204, 5, 2, 19, 55, 2, 2, 92, 66, 104, 14, 20, 93, 76, 2, 151, 33, 4, 58, 12, 188, 2, 151, 12, 215, 69, 224, 142, 73, 237, 6, 2, 7, 2, 2, 188, 2, 103, 14, 31, 10, 10, 451, 7, 2, 5, 2, 80, 91, 2, 30, 2, 34, 14, 20, 151, 50, 26, 131, 49, 2, 84, 46, 50, 37, 80, 79, 6, 2, 46, 7, 14, 20, 10, 10, 470, 158]\n"
          ]
        }
      ]
    },
    {
      "cell_type": "code",
      "source": [
        "print(train_input[0][-10:])"
      ],
      "metadata": {
        "colab": {
          "base_uri": "https://localhost:8080/"
        },
        "id": "wTP30TefniuZ",
        "outputId": "05a00849-32b4-49df-b221-98334fd01e67"
      },
      "execution_count": 67,
      "outputs": [
        {
          "output_type": "stream",
          "name": "stdout",
          "text": [
            "[6, 2, 46, 7, 14, 20, 10, 10, 470, 158]\n"
          ]
        }
      ]
    },
    {
      "cell_type": "code",
      "source": [
        "print(train_seq[5])"
      ],
      "metadata": {
        "colab": {
          "base_uri": "https://localhost:8080/"
        },
        "id": "YrbthHM8n2jK",
        "outputId": "9b83dbde-1d97-4062-814b-fb2e7b6a18a8"
      },
      "execution_count": 68,
      "outputs": [
        {
          "output_type": "stream",
          "name": "stdout",
          "text": [
            "[  0   0   0   0   1   2 195  19  49   2   2 190   4   2 352   2 183  10\n",
            "  10  13  82  79   4   2  36  71 269   8   2  25  19  49   7   4   2   2\n",
            "   2   2   2  10  10  48  25  40   2  11   2   2  40   2   2   5   4   2\n",
            "   2  95  14 238  56 129   2  10  10  21   2  94 364 352   2   2  11 190\n",
            "  24 484   2   7  94 205 405  10  10  87   2  34  49   2   7   2   2   2\n",
            "   2   2 290   2  46  48  64  18   4   2]\n"
          ]
        }
      ]
    },
    {
      "cell_type": "code",
      "source": [
        "val_seq = pad_sequences(val_input, maxlen=100)"
      ],
      "metadata": {
        "id": "ubGDQrmnoX4y"
      },
      "execution_count": 69,
      "outputs": []
    },
    {
      "cell_type": "code",
      "source": [
        "train_seq.shape, val_seq.shape"
      ],
      "metadata": {
        "colab": {
          "base_uri": "https://localhost:8080/"
        },
        "id": "84UQmB5rogLR",
        "outputId": "1fcccdb0-160b-464c-8ac4-b4cc8d1413b4"
      },
      "execution_count": 70,
      "outputs": [
        {
          "output_type": "execute_result",
          "data": {
            "text/plain": [
              "((20000, 100), (5000, 100))"
            ]
          },
          "metadata": {},
          "execution_count": 70
        }
      ]
    },
    {
      "cell_type": "markdown",
      "source": [
        "## 순환 싱경망 모델 만들기 "
      ],
      "metadata": {
        "id": "W-6bR8XkoyRc"
      }
    },
    {
      "cell_type": "code",
      "source": [
        "from tensorflow import keras\n",
        "model = keras.Sequential()\n",
        "model.add(keras.layers.SimpleRNN(8, input_shape=(100,500)))\n",
        "model.add(keras.layers.Dense(1,activation='sigmoid'))  "
      ],
      "metadata": {
        "id": "PmtLCeCho0Cr"
      },
      "execution_count": 71,
      "outputs": []
    },
    {
      "cell_type": "code",
      "source": [
        "train_oh = keras.utils.to_categorical(train_seq)"
      ],
      "metadata": {
        "id": "7hQJGLZ1sYUi"
      },
      "execution_count": 72,
      "outputs": []
    },
    {
      "cell_type": "code",
      "source": [
        "print(train_oh.shape)"
      ],
      "metadata": {
        "colab": {
          "base_uri": "https://localhost:8080/"
        },
        "id": "G2KFC084uPzD",
        "outputId": "b7402e9f-9050-44ce-9195-eb3834ab2379"
      },
      "execution_count": 73,
      "outputs": [
        {
          "output_type": "stream",
          "name": "stdout",
          "text": [
            "(20000, 100, 500)\n"
          ]
        }
      ]
    },
    {
      "cell_type": "markdown",
      "source": [
        "쭉쭉 혼자 해보기"
      ],
      "metadata": {
        "id": "S_AW0hTmvoi4"
      }
    },
    {
      "cell_type": "markdown",
      "source": [
        "## p.527 LSTM과 GRU 셀"
      ],
      "metadata": {
        "id": "mLhwPTtTvrYD"
      }
    },
    {
      "cell_type": "markdown",
      "source": [
        "- LSTM \n",
        "- 단기기억을 오래 기억하기 위해 고안되었다."
      ],
      "metadata": {
        "id": "5I7swwJhxwqb"
      }
    },
    {
      "cell_type": "markdown",
      "source": [
        "- LSTM 신경망 훈련하기"
      ],
      "metadata": {
        "id": "JRQuwn2Bx7bk"
      }
    },
    {
      "cell_type": "code",
      "source": [
        "from tensorflow.keras.datasets import imdb\n",
        "from sklearn.model_selection import train_test_split\n",
        "\n",
        "(train_input, train_target), (test_input, test_target) = imdb.load_data(\n",
        "    num_words=500)\n",
        "\n",
        "train_input, val_input, train_target, val_target = train_test_split(\n",
        "    train_input, train_target, test_size=0.2, random_state=42)"
      ],
      "metadata": {
        "id": "9hbrpSGfvEgU"
      },
      "execution_count": 74,
      "outputs": []
    },
    {
      "cell_type": "markdown",
      "source": [
        "- 패딩작업"
      ],
      "metadata": {
        "id": "quZ58GzbyKkr"
      }
    },
    {
      "cell_type": "code",
      "source": [
        "from tensorflow.keras.preprocessing.sequence import pad_sequences\n",
        "\n",
        "train_seq = pad_sequences(train_input, maxlen=100)\n",
        "val_seq = pad_sequences(val_input, maxlen=100)"
      ],
      "metadata": {
        "id": "6AyQ2jvtyL1r"
      },
      "execution_count": 75,
      "outputs": []
    },
    {
      "cell_type": "markdown",
      "source": [
        "- LSTM 순환층을 만든다.\n",
        "- 모델 아키텍처를 구성한다."
      ],
      "metadata": {
        "id": "LZ3plVH6yRpb"
      }
    },
    {
      "cell_type": "code",
      "source": [
        "from tensorflow import keras\n",
        "\n",
        "model = keras.Sequential()\n",
        "\n",
        "model.add(keras.layers.Embedding(500, 16, input_length=100))\n",
        "model.add(keras.layers.LSTM(8))\n",
        "model.add(keras.layers.Dense(1, activation='sigmoid'))\n",
        "\n",
        "model.summary()"
      ],
      "metadata": {
        "colab": {
          "base_uri": "https://localhost:8080/"
        },
        "id": "Uu26tvSQyT9L",
        "outputId": "25b1b991-ef54-47c9-9a53-49a77775b07f"
      },
      "execution_count": 76,
      "outputs": [
        {
          "output_type": "stream",
          "name": "stdout",
          "text": [
            "Model: \"sequential_7\"\n",
            "_________________________________________________________________\n",
            " Layer (type)                Output Shape              Param #   \n",
            "=================================================================\n",
            " embedding_4 (Embedding)     (None, 100, 16)           8000      \n",
            "                                                                 \n",
            " lstm_4 (LSTM)               (None, 8)                 800       \n",
            "                                                                 \n",
            " dense_7 (Dense)             (None, 1)                 9         \n",
            "                                                                 \n",
            "=================================================================\n",
            "Total params: 8,809\n",
            "Trainable params: 8,809\n",
            "Non-trainable params: 0\n",
            "_________________________________________________________________\n"
          ]
        }
      ]
    },
    {
      "cell_type": "markdown",
      "source": [
        "- 모델 컴파일 "
      ],
      "metadata": {
        "id": "CLKnYv_rz64V"
      }
    },
    {
      "cell_type": "code",
      "source": [
        "rmsprop = keras.optimizers.RMSprop(learning_rate=1e-4)\n",
        "model.compile(optimizer=rmsprop, loss='binary_crossentropy', \n",
        "              metrics=['accuracy'])\n",
        "\n",
        "checkpoint_cb = keras.callbacks.ModelCheckpoint('best-lstm-model.h5', \n",
        "                                                save_best_only=True)\n",
        "early_stopping_cb = keras.callbacks.EarlyStopping(patience=3,\n",
        "                                                  restore_best_weights=True)\n",
        "\n",
        "history = model.fit(train_seq, train_target, epochs=100, batch_size=64,\n",
        "                    validation_data=(val_seq, val_target),\n",
        "                    callbacks=[checkpoint_cb, early_stopping_cb])"
      ],
      "metadata": {
        "colab": {
          "base_uri": "https://localhost:8080/"
        },
        "id": "zpDoJFoRz7ok",
        "outputId": "48e14457-3d0e-4186-a54e-2cf52d6e1793"
      },
      "execution_count": 77,
      "outputs": [
        {
          "output_type": "stream",
          "name": "stdout",
          "text": [
            "Epoch 1/100\n",
            "313/313 [==============================] - 5s 10ms/step - loss: 0.6927 - accuracy: 0.5253 - val_loss: 0.6917 - val_accuracy: 0.5768\n",
            "Epoch 2/100\n",
            "313/313 [==============================] - 3s 9ms/step - loss: 0.6904 - accuracy: 0.5979 - val_loss: 0.6879 - val_accuracy: 0.6254\n",
            "Epoch 3/100\n",
            "313/313 [==============================] - 3s 9ms/step - loss: 0.6792 - accuracy: 0.6683 - val_loss: 0.6608 - val_accuracy: 0.6896\n",
            "Epoch 4/100\n",
            "313/313 [==============================] - 4s 14ms/step - loss: 0.6317 - accuracy: 0.7040 - val_loss: 0.6146 - val_accuracy: 0.7002\n",
            "Epoch 5/100\n",
            "313/313 [==============================] - 3s 11ms/step - loss: 0.5967 - accuracy: 0.7181 - val_loss: 0.5888 - val_accuracy: 0.7182\n",
            "Epoch 6/100\n",
            "313/313 [==============================] - 3s 11ms/step - loss: 0.5697 - accuracy: 0.7397 - val_loss: 0.5677 - val_accuracy: 0.7366\n",
            "Epoch 7/100\n",
            "313/313 [==============================] - 3s 9ms/step - loss: 0.5451 - accuracy: 0.7575 - val_loss: 0.5423 - val_accuracy: 0.7574\n",
            "Epoch 8/100\n",
            "313/313 [==============================] - 3s 9ms/step - loss: 0.5231 - accuracy: 0.7715 - val_loss: 0.5212 - val_accuracy: 0.7666\n",
            "Epoch 9/100\n",
            "313/313 [==============================] - 3s 9ms/step - loss: 0.5054 - accuracy: 0.7824 - val_loss: 0.5061 - val_accuracy: 0.7740\n",
            "Epoch 10/100\n",
            "313/313 [==============================] - 3s 9ms/step - loss: 0.4906 - accuracy: 0.7895 - val_loss: 0.4973 - val_accuracy: 0.7758\n",
            "Epoch 11/100\n",
            "313/313 [==============================] - 3s 9ms/step - loss: 0.4792 - accuracy: 0.7936 - val_loss: 0.4859 - val_accuracy: 0.7862\n",
            "Epoch 12/100\n",
            "313/313 [==============================] - 3s 9ms/step - loss: 0.4697 - accuracy: 0.7962 - val_loss: 0.4808 - val_accuracy: 0.7884\n",
            "Epoch 13/100\n",
            "313/313 [==============================] - 3s 9ms/step - loss: 0.4622 - accuracy: 0.7991 - val_loss: 0.4755 - val_accuracy: 0.7844\n",
            "Epoch 14/100\n",
            "313/313 [==============================] - 3s 9ms/step - loss: 0.4563 - accuracy: 0.8005 - val_loss: 0.4725 - val_accuracy: 0.7914\n",
            "Epoch 15/100\n",
            "313/313 [==============================] - 3s 9ms/step - loss: 0.4514 - accuracy: 0.8034 - val_loss: 0.4646 - val_accuracy: 0.7942\n",
            "Epoch 16/100\n",
            "313/313 [==============================] - 3s 9ms/step - loss: 0.4464 - accuracy: 0.8053 - val_loss: 0.4616 - val_accuracy: 0.7942\n",
            "Epoch 17/100\n",
            "313/313 [==============================] - 3s 9ms/step - loss: 0.4424 - accuracy: 0.8051 - val_loss: 0.4605 - val_accuracy: 0.7952\n",
            "Epoch 18/100\n",
            "313/313 [==============================] - 3s 9ms/step - loss: 0.4389 - accuracy: 0.8056 - val_loss: 0.4597 - val_accuracy: 0.7900\n",
            "Epoch 19/100\n",
            "313/313 [==============================] - 3s 9ms/step - loss: 0.4359 - accuracy: 0.8049 - val_loss: 0.4530 - val_accuracy: 0.7958\n",
            "Epoch 20/100\n",
            "313/313 [==============================] - 3s 9ms/step - loss: 0.4324 - accuracy: 0.8071 - val_loss: 0.4505 - val_accuracy: 0.7978\n",
            "Epoch 21/100\n",
            "313/313 [==============================] - 3s 9ms/step - loss: 0.4300 - accuracy: 0.8088 - val_loss: 0.4489 - val_accuracy: 0.7984\n",
            "Epoch 22/100\n",
            "313/313 [==============================] - 3s 9ms/step - loss: 0.4276 - accuracy: 0.8095 - val_loss: 0.4468 - val_accuracy: 0.7996\n",
            "Epoch 23/100\n",
            "313/313 [==============================] - 3s 9ms/step - loss: 0.4252 - accuracy: 0.8091 - val_loss: 0.4443 - val_accuracy: 0.7962\n",
            "Epoch 24/100\n",
            "313/313 [==============================] - 3s 9ms/step - loss: 0.4234 - accuracy: 0.8081 - val_loss: 0.4427 - val_accuracy: 0.7972\n",
            "Epoch 25/100\n",
            "313/313 [==============================] - 3s 9ms/step - loss: 0.4214 - accuracy: 0.8101 - val_loss: 0.4427 - val_accuracy: 0.7962\n",
            "Epoch 26/100\n",
            "313/313 [==============================] - 3s 9ms/step - loss: 0.4195 - accuracy: 0.8102 - val_loss: 0.4417 - val_accuracy: 0.7964\n",
            "Epoch 27/100\n",
            "313/313 [==============================] - 3s 9ms/step - loss: 0.4183 - accuracy: 0.8123 - val_loss: 0.4400 - val_accuracy: 0.7992\n",
            "Epoch 28/100\n",
            "313/313 [==============================] - 3s 9ms/step - loss: 0.4171 - accuracy: 0.8113 - val_loss: 0.4384 - val_accuracy: 0.8008\n",
            "Epoch 29/100\n",
            "313/313 [==============================] - 3s 9ms/step - loss: 0.4158 - accuracy: 0.8114 - val_loss: 0.4383 - val_accuracy: 0.7972\n",
            "Epoch 30/100\n",
            "313/313 [==============================] - 3s 9ms/step - loss: 0.4146 - accuracy: 0.8120 - val_loss: 0.4370 - val_accuracy: 0.8030\n",
            "Epoch 31/100\n",
            "313/313 [==============================] - 3s 9ms/step - loss: 0.4132 - accuracy: 0.8127 - val_loss: 0.4396 - val_accuracy: 0.7964\n",
            "Epoch 32/100\n",
            "313/313 [==============================] - 3s 9ms/step - loss: 0.4124 - accuracy: 0.8138 - val_loss: 0.4352 - val_accuracy: 0.8024\n",
            "Epoch 33/100\n",
            "313/313 [==============================] - 3s 9ms/step - loss: 0.4115 - accuracy: 0.8120 - val_loss: 0.4372 - val_accuracy: 0.7936\n",
            "Epoch 34/100\n",
            "313/313 [==============================] - 3s 9ms/step - loss: 0.4109 - accuracy: 0.8129 - val_loss: 0.4362 - val_accuracy: 0.8038\n",
            "Epoch 35/100\n",
            "313/313 [==============================] - 3s 9ms/step - loss: 0.4098 - accuracy: 0.8149 - val_loss: 0.4339 - val_accuracy: 0.7954\n",
            "Epoch 36/100\n",
            "313/313 [==============================] - 3s 9ms/step - loss: 0.4089 - accuracy: 0.8130 - val_loss: 0.4331 - val_accuracy: 0.7984\n",
            "Epoch 37/100\n",
            "313/313 [==============================] - 3s 9ms/step - loss: 0.4082 - accuracy: 0.8129 - val_loss: 0.4326 - val_accuracy: 0.8052\n",
            "Epoch 38/100\n",
            "313/313 [==============================] - 3s 9ms/step - loss: 0.4075 - accuracy: 0.8140 - val_loss: 0.4319 - val_accuracy: 0.8044\n",
            "Epoch 39/100\n",
            "313/313 [==============================] - 3s 11ms/step - loss: 0.4066 - accuracy: 0.8155 - val_loss: 0.4365 - val_accuracy: 0.8028\n",
            "Epoch 40/100\n",
            "313/313 [==============================] - 3s 9ms/step - loss: 0.4061 - accuracy: 0.8127 - val_loss: 0.4311 - val_accuracy: 0.7988\n",
            "Epoch 41/100\n",
            "313/313 [==============================] - 3s 9ms/step - loss: 0.4053 - accuracy: 0.8155 - val_loss: 0.4319 - val_accuracy: 0.8032\n",
            "Epoch 42/100\n",
            "313/313 [==============================] - 3s 9ms/step - loss: 0.4047 - accuracy: 0.8158 - val_loss: 0.4303 - val_accuracy: 0.7986\n",
            "Epoch 43/100\n",
            "313/313 [==============================] - 3s 9ms/step - loss: 0.4042 - accuracy: 0.8150 - val_loss: 0.4328 - val_accuracy: 0.7990\n",
            "Epoch 44/100\n",
            "313/313 [==============================] - 3s 9ms/step - loss: 0.4036 - accuracy: 0.8173 - val_loss: 0.4293 - val_accuracy: 0.8022\n",
            "Epoch 45/100\n",
            "313/313 [==============================] - 3s 9ms/step - loss: 0.4030 - accuracy: 0.8160 - val_loss: 0.4294 - val_accuracy: 0.8016\n",
            "Epoch 46/100\n",
            "313/313 [==============================] - 3s 9ms/step - loss: 0.4025 - accuracy: 0.8147 - val_loss: 0.4290 - val_accuracy: 0.8040\n",
            "Epoch 47/100\n",
            "313/313 [==============================] - 3s 9ms/step - loss: 0.4020 - accuracy: 0.8170 - val_loss: 0.4304 - val_accuracy: 0.8030\n",
            "Epoch 48/100\n",
            "313/313 [==============================] - 3s 9ms/step - loss: 0.4013 - accuracy: 0.8173 - val_loss: 0.4296 - val_accuracy: 0.8050\n",
            "Epoch 49/100\n",
            "313/313 [==============================] - 3s 9ms/step - loss: 0.4010 - accuracy: 0.8167 - val_loss: 0.4296 - val_accuracy: 0.8048\n"
          ]
        }
      ]
    },
    {
      "cell_type": "markdown",
      "source": [
        "- 모형 학습이 잘 되었는가 "
      ],
      "metadata": {
        "id": "we6JfZ4a1ets"
      }
    },
    {
      "cell_type": "code",
      "source": [
        "import matplotlib.pyplot as plt\n",
        "\n",
        "plt.plot(history.history['loss'])\n",
        "plt.plot(history.history['val_loss'])\n",
        "plt.xlabel('epoch')\n",
        "plt.ylabel('loss')\n",
        "plt.legend(['train', 'val'])\n",
        "plt.show()"
      ],
      "metadata": {
        "colab": {
          "base_uri": "https://localhost:8080/",
          "height": 279
        },
        "id": "OLhmU8L41gNz",
        "outputId": "68d41699-860b-413d-c37e-215644bcb1fa"
      },
      "execution_count": 78,
      "outputs": [
        {
          "output_type": "display_data",
          "data": {
            "text/plain": [
              "<Figure size 432x288 with 1 Axes>"
            ],
            "image/png": "[encoded data removed]"
          },
          "metadata": {
            "needs_background": "light"
          }
        }
      ]
    },
    {
      "cell_type": "markdown",
      "source": [
        "## 순환 층에 드롭아웃 적용하기"
      ],
      "metadata": {
        "id": "FuQtPr7p2alV"
      }
    },
    {
      "cell_type": "code",
      "source": [
        "model2 = keras.Sequential()\n",
        "\n",
        "model2.add(keras.layers.Embedding(500, 16, input_length=100))\n",
        "model2.add(keras.layers.LSTM(8, dropout=0.3))\n",
        "model2.add(keras.layers.Dense(1, activation='sigmoid'))"
      ],
      "metadata": {
        "id": "UgQny3lq1-J0"
      },
      "execution_count": 79,
      "outputs": []
    },
    {
      "cell_type": "code",
      "source": [
        "rmsprop = keras.optimizers.RMSprop(learning_rate=1e-4)\n",
        "model2.compile(optimizer=rmsprop, loss='binary_crossentropy', \n",
        "              metrics=['accuracy'])\n",
        "\n",
        "checkpoint_cb = keras.callbacks.ModelCheckpoint('best-lstm-model.h5', \n",
        "                                                save_best_only=True)\n",
        "early_stopping_cb = keras.callbacks.EarlyStopping(patience=3,\n",
        "                                                  restore_best_weights=True)\n",
        "\n",
        "history = model2.fit(train_seq, train_target, epochs=100, batch_size=64,\n",
        "                    validation_data=(val_seq, val_target),\n",
        "                    callbacks=[checkpoint_cb, early_stopping_cb])"
      ],
      "metadata": {
        "colab": {
          "base_uri": "https://localhost:8080/"
        },
        "id": "Tymbi2342evU",
        "outputId": "f8a26ebf-b0db-4fb4-8834-d433b5fd3077"
      },
      "execution_count": 80,
      "outputs": [
        {
          "output_type": "stream",
          "name": "stdout",
          "text": [
            "Epoch 1/100\n",
            "313/313 [==============================] - 6s 11ms/step - loss: 0.6929 - accuracy: 0.5173 - val_loss: 0.6923 - val_accuracy: 0.5548\n",
            "Epoch 2/100\n",
            "313/313 [==============================] - 3s 10ms/step - loss: 0.6913 - accuracy: 0.5687 - val_loss: 0.6903 - val_accuracy: 0.6040\n",
            "Epoch 3/100\n",
            "313/313 [==============================] - 3s 10ms/step - loss: 0.6879 - accuracy: 0.6148 - val_loss: 0.6853 - val_accuracy: 0.6300\n",
            "Epoch 4/100\n",
            "313/313 [==============================] - 3s 10ms/step - loss: 0.6765 - accuracy: 0.6352 - val_loss: 0.6638 - val_accuracy: 0.6400\n",
            "Epoch 5/100\n",
            "313/313 [==============================] - 3s 10ms/step - loss: 0.6260 - accuracy: 0.6812 - val_loss: 0.6055 - val_accuracy: 0.7116\n",
            "Epoch 6/100\n",
            "313/313 [==============================] - 3s 10ms/step - loss: 0.5882 - accuracy: 0.7272 - val_loss: 0.5801 - val_accuracy: 0.7284\n",
            "Epoch 7/100\n",
            "313/313 [==============================] - 3s 10ms/step - loss: 0.5678 - accuracy: 0.7411 - val_loss: 0.5617 - val_accuracy: 0.7440\n",
            "Epoch 8/100\n",
            "313/313 [==============================] - 3s 10ms/step - loss: 0.5487 - accuracy: 0.7521 - val_loss: 0.5437 - val_accuracy: 0.7544\n",
            "Epoch 9/100\n",
            "313/313 [==============================] - 3s 10ms/step - loss: 0.5330 - accuracy: 0.7638 - val_loss: 0.5269 - val_accuracy: 0.7618\n",
            "Epoch 10/100\n",
            "313/313 [==============================] - 3s 10ms/step - loss: 0.5181 - accuracy: 0.7686 - val_loss: 0.5142 - val_accuracy: 0.7700\n",
            "Epoch 11/100\n",
            "313/313 [==============================] - 3s 10ms/step - loss: 0.5060 - accuracy: 0.7709 - val_loss: 0.5017 - val_accuracy: 0.7728\n",
            "Epoch 12/100\n",
            "313/313 [==============================] - 4s 11ms/step - loss: 0.4940 - accuracy: 0.7801 - val_loss: 0.4932 - val_accuracy: 0.7764\n",
            "Epoch 13/100\n",
            "313/313 [==============================] - 3s 10ms/step - loss: 0.4877 - accuracy: 0.7811 - val_loss: 0.4842 - val_accuracy: 0.7812\n",
            "Epoch 14/100\n",
            "313/313 [==============================] - 3s 9ms/step - loss: 0.4792 - accuracy: 0.7850 - val_loss: 0.4783 - val_accuracy: 0.7834\n",
            "Epoch 15/100\n",
            "313/313 [==============================] - 3s 9ms/step - loss: 0.4736 - accuracy: 0.7858 - val_loss: 0.4724 - val_accuracy: 0.7838\n",
            "Epoch 16/100\n",
            "313/313 [==============================] - 3s 10ms/step - loss: 0.4666 - accuracy: 0.7903 - val_loss: 0.4686 - val_accuracy: 0.7858\n",
            "Epoch 17/100\n",
            "313/313 [==============================] - 3s 10ms/step - loss: 0.4624 - accuracy: 0.7928 - val_loss: 0.4638 - val_accuracy: 0.7864\n",
            "Epoch 18/100\n",
            "313/313 [==============================] - 3s 10ms/step - loss: 0.4578 - accuracy: 0.7933 - val_loss: 0.4643 - val_accuracy: 0.7848\n",
            "Epoch 19/100\n",
            "313/313 [==============================] - 3s 10ms/step - loss: 0.4524 - accuracy: 0.7958 - val_loss: 0.4601 - val_accuracy: 0.7890\n",
            "Epoch 20/100\n",
            "313/313 [==============================] - 3s 10ms/step - loss: 0.4505 - accuracy: 0.7965 - val_loss: 0.4580 - val_accuracy: 0.7884\n",
            "Epoch 21/100\n",
            "313/313 [==============================] - 3s 10ms/step - loss: 0.4473 - accuracy: 0.7988 - val_loss: 0.4537 - val_accuracy: 0.7906\n",
            "Epoch 22/100\n",
            "313/313 [==============================] - 3s 10ms/step - loss: 0.4458 - accuracy: 0.7993 - val_loss: 0.4539 - val_accuracy: 0.7898\n",
            "Epoch 23/100\n",
            "313/313 [==============================] - 3s 10ms/step - loss: 0.4436 - accuracy: 0.8004 - val_loss: 0.4491 - val_accuracy: 0.7932\n",
            "Epoch 24/100\n",
            "313/313 [==============================] - 3s 9ms/step - loss: 0.4422 - accuracy: 0.8008 - val_loss: 0.4491 - val_accuracy: 0.7926\n",
            "Epoch 25/100\n",
            "313/313 [==============================] - 3s 10ms/step - loss: 0.4372 - accuracy: 0.8037 - val_loss: 0.4462 - val_accuracy: 0.7940\n",
            "Epoch 26/100\n",
            "313/313 [==============================] - 3s 10ms/step - loss: 0.4377 - accuracy: 0.8019 - val_loss: 0.4458 - val_accuracy: 0.7958\n",
            "Epoch 27/100\n",
            "313/313 [==============================] - 3s 10ms/step - loss: 0.4365 - accuracy: 0.8027 - val_loss: 0.4447 - val_accuracy: 0.7952\n",
            "Epoch 28/100\n",
            "313/313 [==============================] - 3s 10ms/step - loss: 0.4335 - accuracy: 0.8042 - val_loss: 0.4446 - val_accuracy: 0.7940\n",
            "Epoch 29/100\n",
            "313/313 [==============================] - 3s 9ms/step - loss: 0.4318 - accuracy: 0.8054 - val_loss: 0.4414 - val_accuracy: 0.7976\n",
            "Epoch 30/100\n",
            "313/313 [==============================] - 3s 9ms/step - loss: 0.4304 - accuracy: 0.8037 - val_loss: 0.4410 - val_accuracy: 0.7960\n",
            "Epoch 31/100\n",
            "313/313 [==============================] - 3s 10ms/step - loss: 0.4288 - accuracy: 0.8073 - val_loss: 0.4406 - val_accuracy: 0.7986\n",
            "Epoch 32/100\n",
            "313/313 [==============================] - 4s 13ms/step - loss: 0.4274 - accuracy: 0.8080 - val_loss: 0.4469 - val_accuracy: 0.7900\n",
            "Epoch 33/100\n",
            "313/313 [==============================] - 3s 11ms/step - loss: 0.4279 - accuracy: 0.8056 - val_loss: 0.4396 - val_accuracy: 0.7998\n",
            "Epoch 34/100\n",
            "313/313 [==============================] - 3s 10ms/step - loss: 0.4283 - accuracy: 0.8054 - val_loss: 0.4375 - val_accuracy: 0.7986\n",
            "Epoch 35/100\n",
            "313/313 [==============================] - 3s 10ms/step - loss: 0.4258 - accuracy: 0.8080 - val_loss: 0.4364 - val_accuracy: 0.7998\n",
            "Epoch 36/100\n",
            "313/313 [==============================] - 3s 10ms/step - loss: 0.4236 - accuracy: 0.8078 - val_loss: 0.4376 - val_accuracy: 0.7994\n",
            "Epoch 37/100\n",
            "313/313 [==============================] - 3s 10ms/step - loss: 0.4236 - accuracy: 0.8084 - val_loss: 0.4374 - val_accuracy: 0.7964\n",
            "Epoch 38/100\n",
            "313/313 [==============================] - 3s 10ms/step - loss: 0.4232 - accuracy: 0.8076 - val_loss: 0.4346 - val_accuracy: 0.8004\n",
            "Epoch 39/100\n",
            "313/313 [==============================] - 3s 10ms/step - loss: 0.4247 - accuracy: 0.8086 - val_loss: 0.4350 - val_accuracy: 0.8010\n",
            "Epoch 40/100\n",
            "313/313 [==============================] - 3s 10ms/step - loss: 0.4213 - accuracy: 0.8086 - val_loss: 0.4347 - val_accuracy: 0.7994\n",
            "Epoch 41/100\n",
            "313/313 [==============================] - 3s 10ms/step - loss: 0.4204 - accuracy: 0.8079 - val_loss: 0.4339 - val_accuracy: 0.8000\n",
            "Epoch 42/100\n",
            "313/313 [==============================] - 3s 10ms/step - loss: 0.4194 - accuracy: 0.8087 - val_loss: 0.4336 - val_accuracy: 0.7972\n",
            "Epoch 43/100\n",
            "313/313 [==============================] - 3s 10ms/step - loss: 0.4185 - accuracy: 0.8091 - val_loss: 0.4333 - val_accuracy: 0.7992\n",
            "Epoch 44/100\n",
            "313/313 [==============================] - 3s 10ms/step - loss: 0.4192 - accuracy: 0.8085 - val_loss: 0.4322 - val_accuracy: 0.8006\n",
            "Epoch 45/100\n",
            "313/313 [==============================] - 3s 10ms/step - loss: 0.4173 - accuracy: 0.8105 - val_loss: 0.4323 - val_accuracy: 0.7990\n",
            "Epoch 46/100\n",
            "313/313 [==============================] - 3s 10ms/step - loss: 0.4164 - accuracy: 0.8101 - val_loss: 0.4314 - val_accuracy: 0.8000\n",
            "Epoch 47/100\n",
            "313/313 [==============================] - 3s 10ms/step - loss: 0.4156 - accuracy: 0.8080 - val_loss: 0.4311 - val_accuracy: 0.8036\n",
            "Epoch 48/100\n",
            "313/313 [==============================] - 3s 10ms/step - loss: 0.4166 - accuracy: 0.8109 - val_loss: 0.4305 - val_accuracy: 0.8000\n",
            "Epoch 49/100\n",
            "313/313 [==============================] - 3s 10ms/step - loss: 0.4150 - accuracy: 0.8103 - val_loss: 0.4330 - val_accuracy: 0.7992\n",
            "Epoch 50/100\n",
            "313/313 [==============================] - 3s 10ms/step - loss: 0.4171 - accuracy: 0.8094 - val_loss: 0.4324 - val_accuracy: 0.7982\n",
            "Epoch 51/100\n",
            "313/313 [==============================] - 3s 10ms/step - loss: 0.4155 - accuracy: 0.8137 - val_loss: 0.4296 - val_accuracy: 0.8012\n",
            "Epoch 52/100\n",
            "313/313 [==============================] - 3s 10ms/step - loss: 0.4137 - accuracy: 0.8125 - val_loss: 0.4303 - val_accuracy: 0.8026\n",
            "Epoch 53/100\n",
            "313/313 [==============================] - 3s 10ms/step - loss: 0.4134 - accuracy: 0.8104 - val_loss: 0.4296 - val_accuracy: 0.8024\n",
            "Epoch 54/100\n",
            "313/313 [==============================] - 3s 10ms/step - loss: 0.4146 - accuracy: 0.8090 - val_loss: 0.4293 - val_accuracy: 0.8020\n",
            "Epoch 55/100\n",
            "313/313 [==============================] - 3s 10ms/step - loss: 0.4120 - accuracy: 0.8123 - val_loss: 0.4298 - val_accuracy: 0.7982\n",
            "Epoch 56/100\n",
            "313/313 [==============================] - 3s 10ms/step - loss: 0.4122 - accuracy: 0.8134 - val_loss: 0.4292 - val_accuracy: 0.8016\n",
            "Epoch 57/100\n",
            "313/313 [==============================] - 3s 9ms/step - loss: 0.4105 - accuracy: 0.8128 - val_loss: 0.4307 - val_accuracy: 0.8042\n",
            "Epoch 58/100\n",
            "313/313 [==============================] - 3s 9ms/step - loss: 0.4110 - accuracy: 0.8123 - val_loss: 0.4312 - val_accuracy: 0.8036\n",
            "Epoch 59/100\n",
            "313/313 [==============================] - 3s 9ms/step - loss: 0.4096 - accuracy: 0.8110 - val_loss: 0.4286 - val_accuracy: 0.8014\n",
            "Epoch 60/100\n",
            "313/313 [==============================] - 3s 10ms/step - loss: 0.4103 - accuracy: 0.8104 - val_loss: 0.4286 - val_accuracy: 0.8034\n",
            "Epoch 61/100\n",
            "313/313 [==============================] - 3s 10ms/step - loss: 0.4096 - accuracy: 0.8128 - val_loss: 0.4312 - val_accuracy: 0.8010\n",
            "Epoch 62/100\n",
            "313/313 [==============================] - 3s 10ms/step - loss: 0.4106 - accuracy: 0.8115 - val_loss: 0.4288 - val_accuracy: 0.8006\n",
            "Epoch 63/100\n",
            "313/313 [==============================] - 4s 12ms/step - loss: 0.4090 - accuracy: 0.8127 - val_loss: 0.4301 - val_accuracy: 0.8028\n"
          ]
        }
      ]
    },
    {
      "cell_type": "code",
      "source": [
        "plt.plot(history.history['loss'])\n",
        "plt.plot(history.history['val_loss'])\n",
        "plt.xlabel('epoch')\n",
        "plt.ylabel('loss')\n",
        "plt.legend(['train', 'val'])\n",
        "plt.show()"
      ],
      "metadata": {
        "colab": {
          "base_uri": "https://localhost:8080/",
          "height": 279
        },
        "id": "Q8Q9ez-V-X-u",
        "outputId": "6b72c2e2-6334-495c-bfc2-2701f10c332b"
      },
      "execution_count": 81,
      "outputs": [
        {
          "output_type": "display_data",
          "data": {
            "text/plain": [
              "<Figure size 432x288 with 1 Axes>"
            ],
            "image/png": "[encoded data removed]"
          },
          "metadata": {
            "needs_background": "light"
          }
        }
      ]
    },
    {
      "cell_type": "markdown",
      "source": [
        "- 2 개의 층을 연결하"
      ],
      "metadata": {
        "id": "9syONB66EP5G"
      }
    },
    {
      "cell_type": "code",
      "source": [
        "model3 = keras.Sequential()\n",
        "model3.add(keras.layers.Embedding(500, 16, input_length=100))\n",
        "model3.add(keras.layers.LSTM(8, dropout=0.3, return_sequences=True))\n",
        "\n",
        "model3.add(keras.layers.Dense(1, activation='sigmoid'))"
      ],
      "metadata": {
        "id": "pA1cLIrxERrl"
      },
      "execution_count": 82,
      "outputs": []
    },
    {
      "cell_type": "code",
      "source": [
        "model3.summary()"
      ],
      "metadata": {
        "colab": {
          "base_uri": "https://localhost:8080/"
        },
        "id": "jq4o23wOHsSf",
        "outputId": "56115fb8-a89c-49b9-930d-c86151220aea"
      },
      "execution_count": 83,
      "outputs": [
        {
          "output_type": "stream",
          "name": "stdout",
          "text": [
            "Model: \"sequential_9\"\n",
            "_________________________________________________________________\n",
            " Layer (type)                Output Shape              Param #   \n",
            "=================================================================\n",
            " embedding_6 (Embedding)     (None, 100, 16)           8000      \n",
            "                                                                 \n",
            " lstm_6 (LSTM)               (None, 100, 8)            800       \n",
            "                                                                 \n",
            " dense_9 (Dense)             (None, 100, 1)            9         \n",
            "                                                                 \n",
            "=================================================================\n",
            "Total params: 8,809\n",
            "Trainable params: 8,809\n",
            "Non-trainable params: 0\n",
            "_________________________________________________________________\n"
          ]
        }
      ]
    }
  ]
}